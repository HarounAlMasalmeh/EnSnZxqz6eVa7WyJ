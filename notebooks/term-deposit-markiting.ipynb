{
 "cells": [
  {
   "cell_type": "code",
   "execution_count": 2,
   "metadata": {
    "collapsed": true
   },
   "outputs": [],
   "source": [
    "import pandas as pd\n",
    "from matplotlib import pyplot as plt\n",
    "import seaborn as sb\n",
    "from sklearn.model_selection import train_test_split,KFold, cross_val_score\n",
    "from sklearn.svm import SVC\n",
    "from sklearn.tree import DecisionTreeClassifier\n",
    "from sklearn.ensemble import RandomForestClassifier\n",
    "from sklearn.linear_model import LogisticRegression\n",
    "from sklearn.metrics import accuracy_score,f1_score\n",
    "from sklearn.feature_selection import RFE, RFECV,mutual_info_classif\n",
    "import numpy as np\n",
    "from imblearn.under_sampling import NearMiss\n",
    "from sklearn.neighbors import KNeighborsClassifier\n",
    "from sklearn.model_selection import GridSearchCV\n",
    "from sklearn.naive_bayes import GaussianNB\n",
    "from sklearn.metrics import make_scorer"
   ]
  },
  {
   "cell_type": "code",
   "execution_count": 4,
   "outputs": [
    {
     "data": {
      "text/plain": "   age           job  marital  education default  balance housing loan  \\\n0   58    management  married   tertiary      no     2143     yes   no   \n1   44    technician   single  secondary      no       29     yes   no   \n2   33  entrepreneur  married  secondary      no        2     yes  yes   \n3   47   blue-collar  married    unknown      no     1506     yes   no   \n4   33       unknown   single    unknown      no        1      no   no   \n\n   contact  day month  duration  campaign   y  \n0  unknown    5   may       261         1  no  \n1  unknown    5   may       151         1  no  \n2  unknown    5   may        76         1  no  \n3  unknown    5   may        92         1  no  \n4  unknown    5   may       198         1  no  ",
      "text/html": "<div>\n<style scoped>\n    .dataframe tbody tr th:only-of-type {\n        vertical-align: middle;\n    }\n\n    .dataframe tbody tr th {\n        vertical-align: top;\n    }\n\n    .dataframe thead th {\n        text-align: right;\n    }\n</style>\n<table border=\"1\" class=\"dataframe\">\n  <thead>\n    <tr style=\"text-align: right;\">\n      <th></th>\n      <th>age</th>\n      <th>job</th>\n      <th>marital</th>\n      <th>education</th>\n      <th>default</th>\n      <th>balance</th>\n      <th>housing</th>\n      <th>loan</th>\n      <th>contact</th>\n      <th>day</th>\n      <th>month</th>\n      <th>duration</th>\n      <th>campaign</th>\n      <th>y</th>\n    </tr>\n  </thead>\n  <tbody>\n    <tr>\n      <th>0</th>\n      <td>58</td>\n      <td>management</td>\n      <td>married</td>\n      <td>tertiary</td>\n      <td>no</td>\n      <td>2143</td>\n      <td>yes</td>\n      <td>no</td>\n      <td>unknown</td>\n      <td>5</td>\n      <td>may</td>\n      <td>261</td>\n      <td>1</td>\n      <td>no</td>\n    </tr>\n    <tr>\n      <th>1</th>\n      <td>44</td>\n      <td>technician</td>\n      <td>single</td>\n      <td>secondary</td>\n      <td>no</td>\n      <td>29</td>\n      <td>yes</td>\n      <td>no</td>\n      <td>unknown</td>\n      <td>5</td>\n      <td>may</td>\n      <td>151</td>\n      <td>1</td>\n      <td>no</td>\n    </tr>\n    <tr>\n      <th>2</th>\n      <td>33</td>\n      <td>entrepreneur</td>\n      <td>married</td>\n      <td>secondary</td>\n      <td>no</td>\n      <td>2</td>\n      <td>yes</td>\n      <td>yes</td>\n      <td>unknown</td>\n      <td>5</td>\n      <td>may</td>\n      <td>76</td>\n      <td>1</td>\n      <td>no</td>\n    </tr>\n    <tr>\n      <th>3</th>\n      <td>47</td>\n      <td>blue-collar</td>\n      <td>married</td>\n      <td>unknown</td>\n      <td>no</td>\n      <td>1506</td>\n      <td>yes</td>\n      <td>no</td>\n      <td>unknown</td>\n      <td>5</td>\n      <td>may</td>\n      <td>92</td>\n      <td>1</td>\n      <td>no</td>\n    </tr>\n    <tr>\n      <th>4</th>\n      <td>33</td>\n      <td>unknown</td>\n      <td>single</td>\n      <td>unknown</td>\n      <td>no</td>\n      <td>1</td>\n      <td>no</td>\n      <td>no</td>\n      <td>unknown</td>\n      <td>5</td>\n      <td>may</td>\n      <td>198</td>\n      <td>1</td>\n      <td>no</td>\n    </tr>\n  </tbody>\n</table>\n</div>"
     },
     "execution_count": 4,
     "metadata": {},
     "output_type": "execute_result"
    }
   ],
   "source": [
    "data_frame=pd.read_csv('../data/raw/term-deposit-marketing-2020.csv', encoding = 'unicode_escape', sep=',', header=0)\n",
    "data_frame.head()"
   ],
   "metadata": {
    "collapsed": false
   }
  },
  {
   "cell_type": "code",
   "execution_count": 5,
   "outputs": [
    {
     "data": {
      "text/plain": "                 age          job  marital  education default        balance  \\\ncount   40000.000000        40000    40000      40000   40000   40000.000000   \nunique           NaN           12        3          4       2            NaN   \ntop              NaN  blue-collar  married  secondary      no            NaN   \nfreq             NaN         9383    24386      20993   39191            NaN   \nmean       40.544600          NaN      NaN        NaN     NaN    1274.277550   \nstd         9.641776          NaN      NaN        NaN     NaN    2903.769716   \nmin        19.000000          NaN      NaN        NaN     NaN   -8019.000000   \n25%        33.000000          NaN      NaN        NaN     NaN      54.000000   \n50%        39.000000          NaN      NaN        NaN     NaN     407.000000   \n75%        48.000000          NaN      NaN        NaN     NaN    1319.000000   \nmax        95.000000          NaN      NaN        NaN     NaN  102127.000000   \n\n       housing   loan   contact           day  month      duration  \\\ncount    40000  40000     40000  40000.000000  40000  40000.000000   \nunique       2      2         3           NaN     11           NaN   \ntop        yes     no  cellular           NaN    may           NaN   \nfreq     24031  33070     24914           NaN  13532           NaN   \nmean       NaN    NaN       NaN     16.017225    NaN    254.824300   \nstd        NaN    NaN       NaN      8.278127    NaN    259.366498   \nmin        NaN    NaN       NaN      1.000000    NaN      0.000000   \n25%        NaN    NaN       NaN      8.000000    NaN    100.000000   \n50%        NaN    NaN       NaN     17.000000    NaN    175.000000   \n75%        NaN    NaN       NaN     21.000000    NaN    313.000000   \nmax        NaN    NaN       NaN     31.000000    NaN   4918.000000   \n\n            campaign      y  \ncount   40000.000000  40000  \nunique           NaN      2  \ntop              NaN     no  \nfreq             NaN  37104  \nmean        2.882175    NaN  \nstd         3.239051    NaN  \nmin         1.000000    NaN  \n25%         1.000000    NaN  \n50%         2.000000    NaN  \n75%         3.000000    NaN  \nmax        63.000000    NaN  ",
      "text/html": "<div>\n<style scoped>\n    .dataframe tbody tr th:only-of-type {\n        vertical-align: middle;\n    }\n\n    .dataframe tbody tr th {\n        vertical-align: top;\n    }\n\n    .dataframe thead th {\n        text-align: right;\n    }\n</style>\n<table border=\"1\" class=\"dataframe\">\n  <thead>\n    <tr style=\"text-align: right;\">\n      <th></th>\n      <th>age</th>\n      <th>job</th>\n      <th>marital</th>\n      <th>education</th>\n      <th>default</th>\n      <th>balance</th>\n      <th>housing</th>\n      <th>loan</th>\n      <th>contact</th>\n      <th>day</th>\n      <th>month</th>\n      <th>duration</th>\n      <th>campaign</th>\n      <th>y</th>\n    </tr>\n  </thead>\n  <tbody>\n    <tr>\n      <th>count</th>\n      <td>40000.000000</td>\n      <td>40000</td>\n      <td>40000</td>\n      <td>40000</td>\n      <td>40000</td>\n      <td>40000.000000</td>\n      <td>40000</td>\n      <td>40000</td>\n      <td>40000</td>\n      <td>40000.000000</td>\n      <td>40000</td>\n      <td>40000.000000</td>\n      <td>40000.000000</td>\n      <td>40000</td>\n    </tr>\n    <tr>\n      <th>unique</th>\n      <td>NaN</td>\n      <td>12</td>\n      <td>3</td>\n      <td>4</td>\n      <td>2</td>\n      <td>NaN</td>\n      <td>2</td>\n      <td>2</td>\n      <td>3</td>\n      <td>NaN</td>\n      <td>11</td>\n      <td>NaN</td>\n      <td>NaN</td>\n      <td>2</td>\n    </tr>\n    <tr>\n      <th>top</th>\n      <td>NaN</td>\n      <td>blue-collar</td>\n      <td>married</td>\n      <td>secondary</td>\n      <td>no</td>\n      <td>NaN</td>\n      <td>yes</td>\n      <td>no</td>\n      <td>cellular</td>\n      <td>NaN</td>\n      <td>may</td>\n      <td>NaN</td>\n      <td>NaN</td>\n      <td>no</td>\n    </tr>\n    <tr>\n      <th>freq</th>\n      <td>NaN</td>\n      <td>9383</td>\n      <td>24386</td>\n      <td>20993</td>\n      <td>39191</td>\n      <td>NaN</td>\n      <td>24031</td>\n      <td>33070</td>\n      <td>24914</td>\n      <td>NaN</td>\n      <td>13532</td>\n      <td>NaN</td>\n      <td>NaN</td>\n      <td>37104</td>\n    </tr>\n    <tr>\n      <th>mean</th>\n      <td>40.544600</td>\n      <td>NaN</td>\n      <td>NaN</td>\n      <td>NaN</td>\n      <td>NaN</td>\n      <td>1274.277550</td>\n      <td>NaN</td>\n      <td>NaN</td>\n      <td>NaN</td>\n      <td>16.017225</td>\n      <td>NaN</td>\n      <td>254.824300</td>\n      <td>2.882175</td>\n      <td>NaN</td>\n    </tr>\n    <tr>\n      <th>std</th>\n      <td>9.641776</td>\n      <td>NaN</td>\n      <td>NaN</td>\n      <td>NaN</td>\n      <td>NaN</td>\n      <td>2903.769716</td>\n      <td>NaN</td>\n      <td>NaN</td>\n      <td>NaN</td>\n      <td>8.278127</td>\n      <td>NaN</td>\n      <td>259.366498</td>\n      <td>3.239051</td>\n      <td>NaN</td>\n    </tr>\n    <tr>\n      <th>min</th>\n      <td>19.000000</td>\n      <td>NaN</td>\n      <td>NaN</td>\n      <td>NaN</td>\n      <td>NaN</td>\n      <td>-8019.000000</td>\n      <td>NaN</td>\n      <td>NaN</td>\n      <td>NaN</td>\n      <td>1.000000</td>\n      <td>NaN</td>\n      <td>0.000000</td>\n      <td>1.000000</td>\n      <td>NaN</td>\n    </tr>\n    <tr>\n      <th>25%</th>\n      <td>33.000000</td>\n      <td>NaN</td>\n      <td>NaN</td>\n      <td>NaN</td>\n      <td>NaN</td>\n      <td>54.000000</td>\n      <td>NaN</td>\n      <td>NaN</td>\n      <td>NaN</td>\n      <td>8.000000</td>\n      <td>NaN</td>\n      <td>100.000000</td>\n      <td>1.000000</td>\n      <td>NaN</td>\n    </tr>\n    <tr>\n      <th>50%</th>\n      <td>39.000000</td>\n      <td>NaN</td>\n      <td>NaN</td>\n      <td>NaN</td>\n      <td>NaN</td>\n      <td>407.000000</td>\n      <td>NaN</td>\n      <td>NaN</td>\n      <td>NaN</td>\n      <td>17.000000</td>\n      <td>NaN</td>\n      <td>175.000000</td>\n      <td>2.000000</td>\n      <td>NaN</td>\n    </tr>\n    <tr>\n      <th>75%</th>\n      <td>48.000000</td>\n      <td>NaN</td>\n      <td>NaN</td>\n      <td>NaN</td>\n      <td>NaN</td>\n      <td>1319.000000</td>\n      <td>NaN</td>\n      <td>NaN</td>\n      <td>NaN</td>\n      <td>21.000000</td>\n      <td>NaN</td>\n      <td>313.000000</td>\n      <td>3.000000</td>\n      <td>NaN</td>\n    </tr>\n    <tr>\n      <th>max</th>\n      <td>95.000000</td>\n      <td>NaN</td>\n      <td>NaN</td>\n      <td>NaN</td>\n      <td>NaN</td>\n      <td>102127.000000</td>\n      <td>NaN</td>\n      <td>NaN</td>\n      <td>NaN</td>\n      <td>31.000000</td>\n      <td>NaN</td>\n      <td>4918.000000</td>\n      <td>63.000000</td>\n      <td>NaN</td>\n    </tr>\n  </tbody>\n</table>\n</div>"
     },
     "execution_count": 5,
     "metadata": {},
     "output_type": "execute_result"
    }
   ],
   "source": [
    "data_frame.describe(include='all')"
   ],
   "metadata": {
    "collapsed": false
   }
  },
  {
   "cell_type": "code",
   "execution_count": 6,
   "outputs": [
    {
     "data": {
      "text/plain": "   age  job  marital  education  default  balance  housing  loan  contact  \\\n0   58    1  married   tertiary        0     2143        1     0  unknown   \n1   44    2   single  secondary        0       29        1     0  unknown   \n2   33    3  married  secondary        0        2        1     1  unknown   \n3   47    4  married    unknown        0     1506        1     0  unknown   \n4   33    0   single    unknown        0        1        0     0  unknown   \n\n   day  month  duration  campaign  y  \n0    5      5       261         1  0  \n1    5      5       151         1  0  \n2    5      5        76         1  0  \n3    5      5        92         1  0  \n4    5      5       198         1  0  ",
      "text/html": "<div>\n<style scoped>\n    .dataframe tbody tr th:only-of-type {\n        vertical-align: middle;\n    }\n\n    .dataframe tbody tr th {\n        vertical-align: top;\n    }\n\n    .dataframe thead th {\n        text-align: right;\n    }\n</style>\n<table border=\"1\" class=\"dataframe\">\n  <thead>\n    <tr style=\"text-align: right;\">\n      <th></th>\n      <th>age</th>\n      <th>job</th>\n      <th>marital</th>\n      <th>education</th>\n      <th>default</th>\n      <th>balance</th>\n      <th>housing</th>\n      <th>loan</th>\n      <th>contact</th>\n      <th>day</th>\n      <th>month</th>\n      <th>duration</th>\n      <th>campaign</th>\n      <th>y</th>\n    </tr>\n  </thead>\n  <tbody>\n    <tr>\n      <th>0</th>\n      <td>58</td>\n      <td>1</td>\n      <td>married</td>\n      <td>tertiary</td>\n      <td>0</td>\n      <td>2143</td>\n      <td>1</td>\n      <td>0</td>\n      <td>unknown</td>\n      <td>5</td>\n      <td>5</td>\n      <td>261</td>\n      <td>1</td>\n      <td>0</td>\n    </tr>\n    <tr>\n      <th>1</th>\n      <td>44</td>\n      <td>2</td>\n      <td>single</td>\n      <td>secondary</td>\n      <td>0</td>\n      <td>29</td>\n      <td>1</td>\n      <td>0</td>\n      <td>unknown</td>\n      <td>5</td>\n      <td>5</td>\n      <td>151</td>\n      <td>1</td>\n      <td>0</td>\n    </tr>\n    <tr>\n      <th>2</th>\n      <td>33</td>\n      <td>3</td>\n      <td>married</td>\n      <td>secondary</td>\n      <td>0</td>\n      <td>2</td>\n      <td>1</td>\n      <td>1</td>\n      <td>unknown</td>\n      <td>5</td>\n      <td>5</td>\n      <td>76</td>\n      <td>1</td>\n      <td>0</td>\n    </tr>\n    <tr>\n      <th>3</th>\n      <td>47</td>\n      <td>4</td>\n      <td>married</td>\n      <td>unknown</td>\n      <td>0</td>\n      <td>1506</td>\n      <td>1</td>\n      <td>0</td>\n      <td>unknown</td>\n      <td>5</td>\n      <td>5</td>\n      <td>92</td>\n      <td>1</td>\n      <td>0</td>\n    </tr>\n    <tr>\n      <th>4</th>\n      <td>33</td>\n      <td>0</td>\n      <td>single</td>\n      <td>unknown</td>\n      <td>0</td>\n      <td>1</td>\n      <td>0</td>\n      <td>0</td>\n      <td>unknown</td>\n      <td>5</td>\n      <td>5</td>\n      <td>198</td>\n      <td>1</td>\n      <td>0</td>\n    </tr>\n  </tbody>\n</table>\n</div>"
     },
     "execution_count": 6,
     "metadata": {},
     "output_type": "execute_result"
    }
   ],
   "source": [
    "data_frame.replace({'no':0, 'yes':1}, inplace=True)\n",
    "data_frame['job'].replace({'management':1, 'technician':2, 'entrepreneur':3, 'blue-collar':4, 'unknown':0, 'retired':5, 'admin':6, 'services':7,'self-employed':8, 'unemployed':9, 'housemaid':10, 'student':11}, inplace=True)\n",
    "data_frame['month'].replace({'may':5, 'jun':6, 'jul':7, 'aug':8, 'oct':10, 'nov':11, 'dec':12, 'jan':1, 'feb':2, 'mar':3, 'apr':4}, inplace=True)\n",
    "data_frame.head()"
   ],
   "metadata": {
    "collapsed": false
   }
  },
  {
   "cell_type": "code",
   "execution_count": 7,
   "outputs": [
    {
     "data": {
      "text/plain": "   age  job  default  balance  housing  loan  day  month  duration  campaign  \\\n0   58    1        0     2143        1     0    5      5       261         1   \n1   44    2        0       29        1     0    5      5       151         1   \n2   33    3        0        2        1     1    5      5        76         1   \n3   47    4        0     1506        1     0    5      5        92         1   \n4   33    0        0        1        0     0    5      5       198         1   \n\n   ...  marital_divorced  marital_married  marital_single  contact_cellular  \\\n0  ...             False             True           False             False   \n1  ...             False            False            True             False   \n2  ...             False             True           False             False   \n3  ...             False             True           False             False   \n4  ...             False            False            True             False   \n\n   contact_telephone  contact_unknown  education_primary  education_secondary  \\\n0              False             True              False                False   \n1              False             True              False                 True   \n2              False             True              False                 True   \n3              False             True              False                False   \n4              False             True              False                False   \n\n   education_tertiary  education_unknown  \n0                True              False  \n1               False              False  \n2               False              False  \n3               False               True  \n4               False               True  \n\n[5 rows x 21 columns]",
      "text/html": "<div>\n<style scoped>\n    .dataframe tbody tr th:only-of-type {\n        vertical-align: middle;\n    }\n\n    .dataframe tbody tr th {\n        vertical-align: top;\n    }\n\n    .dataframe thead th {\n        text-align: right;\n    }\n</style>\n<table border=\"1\" class=\"dataframe\">\n  <thead>\n    <tr style=\"text-align: right;\">\n      <th></th>\n      <th>age</th>\n      <th>job</th>\n      <th>default</th>\n      <th>balance</th>\n      <th>housing</th>\n      <th>loan</th>\n      <th>day</th>\n      <th>month</th>\n      <th>duration</th>\n      <th>campaign</th>\n      <th>...</th>\n      <th>marital_divorced</th>\n      <th>marital_married</th>\n      <th>marital_single</th>\n      <th>contact_cellular</th>\n      <th>contact_telephone</th>\n      <th>contact_unknown</th>\n      <th>education_primary</th>\n      <th>education_secondary</th>\n      <th>education_tertiary</th>\n      <th>education_unknown</th>\n    </tr>\n  </thead>\n  <tbody>\n    <tr>\n      <th>0</th>\n      <td>58</td>\n      <td>1</td>\n      <td>0</td>\n      <td>2143</td>\n      <td>1</td>\n      <td>0</td>\n      <td>5</td>\n      <td>5</td>\n      <td>261</td>\n      <td>1</td>\n      <td>...</td>\n      <td>False</td>\n      <td>True</td>\n      <td>False</td>\n      <td>False</td>\n      <td>False</td>\n      <td>True</td>\n      <td>False</td>\n      <td>False</td>\n      <td>True</td>\n      <td>False</td>\n    </tr>\n    <tr>\n      <th>1</th>\n      <td>44</td>\n      <td>2</td>\n      <td>0</td>\n      <td>29</td>\n      <td>1</td>\n      <td>0</td>\n      <td>5</td>\n      <td>5</td>\n      <td>151</td>\n      <td>1</td>\n      <td>...</td>\n      <td>False</td>\n      <td>False</td>\n      <td>True</td>\n      <td>False</td>\n      <td>False</td>\n      <td>True</td>\n      <td>False</td>\n      <td>True</td>\n      <td>False</td>\n      <td>False</td>\n    </tr>\n    <tr>\n      <th>2</th>\n      <td>33</td>\n      <td>3</td>\n      <td>0</td>\n      <td>2</td>\n      <td>1</td>\n      <td>1</td>\n      <td>5</td>\n      <td>5</td>\n      <td>76</td>\n      <td>1</td>\n      <td>...</td>\n      <td>False</td>\n      <td>True</td>\n      <td>False</td>\n      <td>False</td>\n      <td>False</td>\n      <td>True</td>\n      <td>False</td>\n      <td>True</td>\n      <td>False</td>\n      <td>False</td>\n    </tr>\n    <tr>\n      <th>3</th>\n      <td>47</td>\n      <td>4</td>\n      <td>0</td>\n      <td>1506</td>\n      <td>1</td>\n      <td>0</td>\n      <td>5</td>\n      <td>5</td>\n      <td>92</td>\n      <td>1</td>\n      <td>...</td>\n      <td>False</td>\n      <td>True</td>\n      <td>False</td>\n      <td>False</td>\n      <td>False</td>\n      <td>True</td>\n      <td>False</td>\n      <td>False</td>\n      <td>False</td>\n      <td>True</td>\n    </tr>\n    <tr>\n      <th>4</th>\n      <td>33</td>\n      <td>0</td>\n      <td>0</td>\n      <td>1</td>\n      <td>0</td>\n      <td>0</td>\n      <td>5</td>\n      <td>5</td>\n      <td>198</td>\n      <td>1</td>\n      <td>...</td>\n      <td>False</td>\n      <td>False</td>\n      <td>True</td>\n      <td>False</td>\n      <td>False</td>\n      <td>True</td>\n      <td>False</td>\n      <td>False</td>\n      <td>False</td>\n      <td>True</td>\n    </tr>\n  </tbody>\n</table>\n<p>5 rows × 21 columns</p>\n</div>"
     },
     "execution_count": 7,
     "metadata": {},
     "output_type": "execute_result"
    }
   ],
   "source": [
    "encoded_data = pd.get_dummies(data_frame, columns = ['marital', 'contact','education'])\n",
    "encoded_data.head()"
   ],
   "metadata": {
    "collapsed": false
   }
  },
  {
   "cell_type": "code",
   "execution_count": 8,
   "outputs": [
    {
     "name": "stdout",
     "output_type": "stream",
     "text": [
      "y\n",
      "0    37104\n",
      "1     2896\n",
      "Name: count, dtype: int64\n",
      "0.07805088400172489\n"
     ]
    }
   ],
   "source": [
    "term_deposit = len(encoded_data[data_frame['y'] == 1])\n",
    "no_term_deposit = len(encoded_data[data_frame['y']== 0])\n",
    "class_distribution_ratio = term_deposit/no_term_deposit\n",
    "print(encoded_data['y'].value_counts())\n",
    "print(class_distribution_ratio)"
   ],
   "metadata": {
    "collapsed": false
   }
  },
  {
   "cell_type": "code",
   "execution_count": 19,
   "outputs": [],
   "source": [
    "y = encoded_data['y']\n",
    "features=encoded_data.drop(['y'],axis=1)\n",
    "undersample = NearMiss(version = 2, n_neighbors = 5)\n",
    "x,y = undersample.fit_resample(features,y)"
   ],
   "metadata": {
    "collapsed": false
   }
  },
  {
   "cell_type": "code",
   "execution_count": 20,
   "outputs": [],
   "source": [
    "X_train,X_test,y_train,y_test=train_test_split(x , y, test_size=0.4,random_state=10)"
   ],
   "metadata": {
    "collapsed": false
   }
  },
  {
   "cell_type": "code",
   "execution_count": 21,
   "outputs": [
    {
     "data": {
      "text/plain": "      age  job  default  balance  housing  loan  day  month  duration  \\\n3524   51    4        0      201        1     0   17      7       582   \n134    26    1        0    14004        1     0   23      7       167   \n2621   49    7        0     4300        1     1    8      5       134   \n997    58    5        0     7560        0     0   12      8       364   \n2652   55    7        0     4263        0     0   14      8        93   \n\n      campaign  marital_divorced  marital_married  marital_single  \\\n3524         2             False             True           False   \n134          1             False            False            True   \n2621         1             False             True           False   \n997          2             False             True           False   \n2652         2             False             True           False   \n\n      contact_cellular  contact_telephone  contact_unknown  education_primary  \\\n3524              True              False            False               True   \n134               True              False            False              False   \n2621              True              False            False              False   \n997               True              False            False              False   \n2652              True              False            False              False   \n\n      education_secondary  education_tertiary  education_unknown  \n3524                False               False              False  \n134                 False                True              False  \n2621                 True               False              False  \n997                  True               False              False  \n2652                 True               False              False  ",
      "text/html": "<div>\n<style scoped>\n    .dataframe tbody tr th:only-of-type {\n        vertical-align: middle;\n    }\n\n    .dataframe tbody tr th {\n        vertical-align: top;\n    }\n\n    .dataframe thead th {\n        text-align: right;\n    }\n</style>\n<table border=\"1\" class=\"dataframe\">\n  <thead>\n    <tr style=\"text-align: right;\">\n      <th></th>\n      <th>age</th>\n      <th>job</th>\n      <th>default</th>\n      <th>balance</th>\n      <th>housing</th>\n      <th>loan</th>\n      <th>day</th>\n      <th>month</th>\n      <th>duration</th>\n      <th>campaign</th>\n      <th>marital_divorced</th>\n      <th>marital_married</th>\n      <th>marital_single</th>\n      <th>contact_cellular</th>\n      <th>contact_telephone</th>\n      <th>contact_unknown</th>\n      <th>education_primary</th>\n      <th>education_secondary</th>\n      <th>education_tertiary</th>\n      <th>education_unknown</th>\n    </tr>\n  </thead>\n  <tbody>\n    <tr>\n      <th>3524</th>\n      <td>51</td>\n      <td>4</td>\n      <td>0</td>\n      <td>201</td>\n      <td>1</td>\n      <td>0</td>\n      <td>17</td>\n      <td>7</td>\n      <td>582</td>\n      <td>2</td>\n      <td>False</td>\n      <td>True</td>\n      <td>False</td>\n      <td>True</td>\n      <td>False</td>\n      <td>False</td>\n      <td>True</td>\n      <td>False</td>\n      <td>False</td>\n      <td>False</td>\n    </tr>\n    <tr>\n      <th>134</th>\n      <td>26</td>\n      <td>1</td>\n      <td>0</td>\n      <td>14004</td>\n      <td>1</td>\n      <td>0</td>\n      <td>23</td>\n      <td>7</td>\n      <td>167</td>\n      <td>1</td>\n      <td>False</td>\n      <td>False</td>\n      <td>True</td>\n      <td>True</td>\n      <td>False</td>\n      <td>False</td>\n      <td>False</td>\n      <td>False</td>\n      <td>True</td>\n      <td>False</td>\n    </tr>\n    <tr>\n      <th>2621</th>\n      <td>49</td>\n      <td>7</td>\n      <td>0</td>\n      <td>4300</td>\n      <td>1</td>\n      <td>1</td>\n      <td>8</td>\n      <td>5</td>\n      <td>134</td>\n      <td>1</td>\n      <td>False</td>\n      <td>True</td>\n      <td>False</td>\n      <td>True</td>\n      <td>False</td>\n      <td>False</td>\n      <td>False</td>\n      <td>True</td>\n      <td>False</td>\n      <td>False</td>\n    </tr>\n    <tr>\n      <th>997</th>\n      <td>58</td>\n      <td>5</td>\n      <td>0</td>\n      <td>7560</td>\n      <td>0</td>\n      <td>0</td>\n      <td>12</td>\n      <td>8</td>\n      <td>364</td>\n      <td>2</td>\n      <td>False</td>\n      <td>True</td>\n      <td>False</td>\n      <td>True</td>\n      <td>False</td>\n      <td>False</td>\n      <td>False</td>\n      <td>True</td>\n      <td>False</td>\n      <td>False</td>\n    </tr>\n    <tr>\n      <th>2652</th>\n      <td>55</td>\n      <td>7</td>\n      <td>0</td>\n      <td>4263</td>\n      <td>0</td>\n      <td>0</td>\n      <td>14</td>\n      <td>8</td>\n      <td>93</td>\n      <td>2</td>\n      <td>False</td>\n      <td>True</td>\n      <td>False</td>\n      <td>True</td>\n      <td>False</td>\n      <td>False</td>\n      <td>False</td>\n      <td>True</td>\n      <td>False</td>\n      <td>False</td>\n    </tr>\n  </tbody>\n</table>\n</div>"
     },
     "execution_count": 21,
     "metadata": {},
     "output_type": "execute_result"
    }
   ],
   "source": [
    "X_train.head()"
   ],
   "metadata": {
    "collapsed": false
   }
  },
  {
   "cell_type": "code",
   "execution_count": 22,
   "outputs": [],
   "source": [
    "classifiers = {\n",
    "        'LogisticRegression': {\n",
    "            'model': LogisticRegression(),\n",
    "            'params': {\n",
    "                'C': [0.1, 1],\n",
    "                'penalty': ['l2']\n",
    "            }\n",
    "        },\n",
    "        'KNeighborsClassifier': {\n",
    "            'model': KNeighborsClassifier(),\n",
    "            'params': {\n",
    "                'n_neighbors': [i for i in range(1, 5)],\n",
    "                'weights': ['uniform', 'distance'],\n",
    "                'p': [1, 2],\n",
    "                'algorithm': ['auto', 'ball_tree', 'kd_tree', 'brute'],\n",
    "                'leaf_size': [i for i in range(1, 3)]\n",
    "            }\n",
    "        },\n",
    "        'DecisionTreeClassifier': {\n",
    "            'model': DecisionTreeClassifier(),\n",
    "            'params': {\n",
    "                'max_depth': [10, 20],\n",
    "                'min_samples_split': [2, 5],\n",
    "                'min_samples_leaf': [1, 2]\n",
    "            }\n",
    "        },\n",
    "        'GaussianNB': {\n",
    "            'model': GaussianNB(),\n",
    "            'params': {}\n",
    "        },\n",
    "        'RandomForestClassifier': {\n",
    "            'model': RandomForestClassifier(),\n",
    "            'params': {\n",
    "                'n_estimators': [10, 50],\n",
    "                'max_depth': [10, 20],\n",
    "                'min_samples_split': [2, 5],\n",
    "                'min_samples_leaf': [1, 2]\n",
    "            }\n",
    "        },\n",
    "    }"
   ],
   "metadata": {
    "collapsed": false
   }
  },
  {
   "cell_type": "code",
   "execution_count": 23,
   "outputs": [
    {
     "name": "stderr",
     "output_type": "stream",
     "text": [
      "/Users/haroun/PycharmProjects/apziva/ensnzxqz6eva7wyj/venv/lib/python3.10/site-packages/sklearn/linear_model/_logistic.py:458: ConvergenceWarning: lbfgs failed to converge (status=1):\n",
      "STOP: TOTAL NO. of ITERATIONS REACHED LIMIT.\n",
      "\n",
      "Increase the number of iterations (max_iter) or scale the data as shown in:\n",
      "    https://scikit-learn.org/stable/modules/preprocessing.html\n",
      "Please also refer to the documentation for alternative solver options:\n",
      "    https://scikit-learn.org/stable/modules/linear_model.html#logistic-regression\n",
      "  n_iter_i = _check_optimize_result(\n",
      "/Users/haroun/PycharmProjects/apziva/ensnzxqz6eva7wyj/venv/lib/python3.10/site-packages/sklearn/linear_model/_logistic.py:458: ConvergenceWarning: lbfgs failed to converge (status=1):\n",
      "STOP: TOTAL NO. of ITERATIONS REACHED LIMIT.\n",
      "\n",
      "Increase the number of iterations (max_iter) or scale the data as shown in:\n",
      "    https://scikit-learn.org/stable/modules/preprocessing.html\n",
      "Please also refer to the documentation for alternative solver options:\n",
      "    https://scikit-learn.org/stable/modules/linear_model.html#logistic-regression\n",
      "  n_iter_i = _check_optimize_result(\n",
      "/Users/haroun/PycharmProjects/apziva/ensnzxqz6eva7wyj/venv/lib/python3.10/site-packages/sklearn/linear_model/_logistic.py:458: ConvergenceWarning: lbfgs failed to converge (status=1):\n",
      "STOP: TOTAL NO. of ITERATIONS REACHED LIMIT.\n",
      "\n",
      "Increase the number of iterations (max_iter) or scale the data as shown in:\n",
      "    https://scikit-learn.org/stable/modules/preprocessing.html\n",
      "Please also refer to the documentation for alternative solver options:\n",
      "    https://scikit-learn.org/stable/modules/linear_model.html#logistic-regression\n",
      "  n_iter_i = _check_optimize_result(\n",
      "/Users/haroun/PycharmProjects/apziva/ensnzxqz6eva7wyj/venv/lib/python3.10/site-packages/sklearn/linear_model/_logistic.py:458: ConvergenceWarning: lbfgs failed to converge (status=1):\n",
      "STOP: TOTAL NO. of ITERATIONS REACHED LIMIT.\n",
      "\n",
      "Increase the number of iterations (max_iter) or scale the data as shown in:\n",
      "    https://scikit-learn.org/stable/modules/preprocessing.html\n",
      "Please also refer to the documentation for alternative solver options:\n",
      "    https://scikit-learn.org/stable/modules/linear_model.html#logistic-regression\n",
      "  n_iter_i = _check_optimize_result(\n",
      "/Users/haroun/PycharmProjects/apziva/ensnzxqz6eva7wyj/venv/lib/python3.10/site-packages/sklearn/linear_model/_logistic.py:458: ConvergenceWarning: lbfgs failed to converge (status=1):\n",
      "STOP: TOTAL NO. of ITERATIONS REACHED LIMIT.\n",
      "\n",
      "Increase the number of iterations (max_iter) or scale the data as shown in:\n",
      "    https://scikit-learn.org/stable/modules/preprocessing.html\n",
      "Please also refer to the documentation for alternative solver options:\n",
      "    https://scikit-learn.org/stable/modules/linear_model.html#logistic-regression\n",
      "  n_iter_i = _check_optimize_result(\n",
      "/Users/haroun/PycharmProjects/apziva/ensnzxqz6eva7wyj/venv/lib/python3.10/site-packages/sklearn/linear_model/_logistic.py:458: ConvergenceWarning: lbfgs failed to converge (status=1):\n",
      "STOP: TOTAL NO. of ITERATIONS REACHED LIMIT.\n",
      "\n",
      "Increase the number of iterations (max_iter) or scale the data as shown in:\n",
      "    https://scikit-learn.org/stable/modules/preprocessing.html\n",
      "Please also refer to the documentation for alternative solver options:\n",
      "    https://scikit-learn.org/stable/modules/linear_model.html#logistic-regression\n",
      "  n_iter_i = _check_optimize_result(\n",
      "/Users/haroun/PycharmProjects/apziva/ensnzxqz6eva7wyj/venv/lib/python3.10/site-packages/sklearn/linear_model/_logistic.py:458: ConvergenceWarning: lbfgs failed to converge (status=1):\n",
      "STOP: TOTAL NO. of ITERATIONS REACHED LIMIT.\n",
      "\n",
      "Increase the number of iterations (max_iter) or scale the data as shown in:\n",
      "    https://scikit-learn.org/stable/modules/preprocessing.html\n",
      "Please also refer to the documentation for alternative solver options:\n",
      "    https://scikit-learn.org/stable/modules/linear_model.html#logistic-regression\n",
      "  n_iter_i = _check_optimize_result(\n",
      "/Users/haroun/PycharmProjects/apziva/ensnzxqz6eva7wyj/venv/lib/python3.10/site-packages/sklearn/linear_model/_logistic.py:458: ConvergenceWarning: lbfgs failed to converge (status=1):\n",
      "STOP: TOTAL NO. of ITERATIONS REACHED LIMIT.\n",
      "\n",
      "Increase the number of iterations (max_iter) or scale the data as shown in:\n",
      "    https://scikit-learn.org/stable/modules/preprocessing.html\n",
      "Please also refer to the documentation for alternative solver options:\n",
      "    https://scikit-learn.org/stable/modules/linear_model.html#logistic-regression\n",
      "  n_iter_i = _check_optimize_result(\n",
      "/Users/haroun/PycharmProjects/apziva/ensnzxqz6eva7wyj/venv/lib/python3.10/site-packages/sklearn/linear_model/_logistic.py:458: ConvergenceWarning: lbfgs failed to converge (status=1):\n",
      "STOP: TOTAL NO. of ITERATIONS REACHED LIMIT.\n",
      "\n",
      "Increase the number of iterations (max_iter) or scale the data as shown in:\n",
      "    https://scikit-learn.org/stable/modules/preprocessing.html\n",
      "Please also refer to the documentation for alternative solver options:\n",
      "    https://scikit-learn.org/stable/modules/linear_model.html#logistic-regression\n",
      "  n_iter_i = _check_optimize_result(\n",
      "/Users/haroun/PycharmProjects/apziva/ensnzxqz6eva7wyj/venv/lib/python3.10/site-packages/sklearn/linear_model/_logistic.py:458: ConvergenceWarning: lbfgs failed to converge (status=1):\n",
      "STOP: TOTAL NO. of ITERATIONS REACHED LIMIT.\n",
      "\n",
      "Increase the number of iterations (max_iter) or scale the data as shown in:\n",
      "    https://scikit-learn.org/stable/modules/preprocessing.html\n",
      "Please also refer to the documentation for alternative solver options:\n",
      "    https://scikit-learn.org/stable/modules/linear_model.html#logistic-regression\n",
      "  n_iter_i = _check_optimize_result(\n",
      "/Users/haroun/PycharmProjects/apziva/ensnzxqz6eva7wyj/venv/lib/python3.10/site-packages/sklearn/linear_model/_logistic.py:458: ConvergenceWarning: lbfgs failed to converge (status=1):\n",
      "STOP: TOTAL NO. of ITERATIONS REACHED LIMIT.\n",
      "\n",
      "Increase the number of iterations (max_iter) or scale the data as shown in:\n",
      "    https://scikit-learn.org/stable/modules/preprocessing.html\n",
      "Please also refer to the documentation for alternative solver options:\n",
      "    https://scikit-learn.org/stable/modules/linear_model.html#logistic-regression\n",
      "  n_iter_i = _check_optimize_result(\n"
     ]
    },
    {
     "name": "stdout",
     "output_type": "stream",
     "text": [
      "Estimator: RandomForestClassifier(max_depth=20, min_samples_split=5, n_estimators=50)\n",
      "Score: 0.952\n"
     ]
    }
   ],
   "source": [
    "max_score = 0\n",
    "best_model = None\n",
    "for classifier_name, classifier in classifiers.items():\n",
    "    model = classifier['model']\n",
    "    params = classifier['params']\n",
    "    kf = KFold(n_splits=5)\n",
    "    scoring = make_scorer(f1_score, zero_division=1)\n",
    "    grid_search = GridSearchCV(model, params, cv=kf, n_jobs=-1, scoring=scoring, verbose=0, return_train_score=True)\n",
    "    grid_search.fit(X_train, y_train)\n",
    "\n",
    "    if grid_search.best_score_ > max_score:\n",
    "        max_score = grid_search.best_score_\n",
    "        best_model = grid_search.best_estimator_\n",
    "\n",
    "print(f\"Estimator: {best_model}\\nScore: {max_score:.3f}\")"
   ],
   "metadata": {
    "collapsed": false
   }
  },
  {
   "cell_type": "code",
   "execution_count": null,
   "outputs": [],
   "source": [],
   "metadata": {
    "collapsed": false
   }
  }
 ],
 "metadata": {
  "kernelspec": {
   "display_name": "Python 3",
   "language": "python",
   "name": "python3"
  },
  "language_info": {
   "codemirror_mode": {
    "name": "ipython",
    "version": 2
   },
   "file_extension": ".py",
   "mimetype": "text/x-python",
   "name": "python",
   "nbconvert_exporter": "python",
   "pygments_lexer": "ipython2",
   "version": "2.7.6"
  }
 },
 "nbformat": 4,
 "nbformat_minor": 0
}
